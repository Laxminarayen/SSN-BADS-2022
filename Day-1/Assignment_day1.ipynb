{
  "nbformat": 4,
  "nbformat_minor": 0,
  "metadata": {
    "colab": {
      "name": "Copy of Assignment_day1.ipynb",
      "provenance": [],
      "collapsed_sections": []
    },
    "kernelspec": {
      "name": "python3",
      "display_name": "Python 3"
    },
    "language_info": {
      "name": "python"
    }
  },
  "cells": [
    {
      "cell_type": "code",
      "execution_count": null,
      "metadata": {
        "id": "fruEDpixf8Fo"
      },
      "outputs": [],
      "source": [
        "#Please complete the assignment with solutions that match the output of the cells"
      ]
    },
    {
      "cell_type": "markdown",
      "source": [
        "Regular Expressions Snippets:\n",
        "\n",
        "\n",
        ".       - Any Character Except New Line\n",
        "\n",
        "\\d      - Digit (0-9)\n",
        "\n",
        "\\D      - Not a Digit (0-9)\n",
        "\n",
        "\\w      - Word Character (a-z, A-Z, 0-9, _)\n",
        "\n",
        "\\W      - Not a Word Character\n",
        "\n",
        "\\s      - Whitespace (space, tab, newline)\n",
        "\n",
        "\\S      - Not Whitespace (space, tab, newline)\n",
        "\n",
        "^       - Beginning of a String\n",
        "\n",
        "$       - End of a String\n",
        "\n",
        "[]      - Matches Characters in brackets\n",
        "\n",
        "[^ ]    - Matches Characters NOT in brackets\n",
        "\n",
        "|       - Either Or\n",
        "\n",
        "( )     - Group\n",
        "\n",
        "\n",
        "Quantifiers:\n",
        "*       - 0 or More\n",
        "\n",
        "+       - 1 or More\n",
        "\n",
        "?       - 0 or One\n",
        "\n",
        "{3}     - Exact Number\n",
        "\n",
        "{3,4}   - Range of Numbers (Minimum, Maximum)\n"
      ],
      "metadata": {
        "id": "R5BGoENwf-qQ"
      }
    },
    {
      "cell_type": "code",
      "source": [
        "import re"
      ],
      "metadata": {
        "id": "94MHbpo4hA-0"
      },
      "execution_count": null,
      "outputs": []
    },
    {
      "cell_type": "code",
      "source": [
        "#1. Extract the username and the domain name seperately from the text\n",
        "data = '''\n",
        "nvlnarayen@gmail.com\n",
        "nvl.narayen@university.edu\n",
        "nvl-narayen-24@my-work.net\n",
        "'''\n"
      ],
      "metadata": {
        "colab": {
          "base_uri": "https://localhost:8080/"
        },
        "id": "U5uN_zbxgT6H",
        "outputId": "7a50d049-aaf9-4813-aef2-481b969b57f4"
      },
      "execution_count": null,
      "outputs": [
        {
          "output_type": "stream",
          "name": "stdout",
          "text": [
            "Expected Output: \n",
            "\n",
            "Username:  nvlnarayen\n",
            "Domain:  gmail.com\n",
            "Username:  nvl.narayen\n",
            "Domain:  university.edu\n",
            "Username:  narayen-24\n",
            "Domain:  my-work.net\n"
          ]
        }
      ]
    },
    {
      "cell_type": "code",
      "source": [
        "#Eg. of re.sub\n",
        "text = 'I love java, java is my favourite programming language'\n",
        "pattern = 'java'\n",
        "text = re.sub(pattern,'python',text)\n",
        "print(text)"
      ],
      "metadata": {
        "colab": {
          "base_uri": "https://localhost:8080/"
        },
        "id": "iYkYdM3qmT7g",
        "outputId": "1a1b5e67-ff7e-4a3b-9f20-adbd42941d35"
      },
      "execution_count": null,
      "outputs": [
        {
          "output_type": "stream",
          "name": "stdout",
          "text": [
            "I love python, python is my favourite programming language\n"
          ]
        }
      ]
    },
    {
      "cell_type": "code",
      "source": [
        "#2. Write a Python program to replace multiple empty spaces with a single empty space (Use!!! re.sub(pattern/word to replace, relacing text,text))\n",
        "data = 'Python           Exercises,         are             a         fun             way to         learn'\n"
      ],
      "metadata": {
        "colab": {
          "base_uri": "https://localhost:8080/"
        },
        "id": "sJcIKxNOhJU4",
        "outputId": "33571a59-af9f-4c82-9938-3a915dee93a1"
      },
      "execution_count": null,
      "outputs": [
        {
          "output_type": "stream",
          "name": "stdout",
          "text": [
            "Expected Output:\n",
            "Python Exercises, are a fun way to learn\n"
          ]
        }
      ]
    },
    {
      "cell_type": "code",
      "source": [
        "#3. Write a Python program to find the occurrence and position of the substrings within a string.\n",
        "#substring to find the position of is 'exercises'\n",
        "text = 'Python exercises, PHP exercises, C# exercises'\n",
        "pattern = 'exercises'\n"
      ],
      "metadata": {
        "colab": {
          "base_uri": "https://localhost:8080/"
        },
        "id": "RcrmyJdpiPhA",
        "outputId": "ecbcb644-bdb4-45ff-9bba-b499645a0580"
      },
      "execution_count": null,
      "outputs": [
        {
          "output_type": "stream",
          "name": "stdout",
          "text": [
            "Expected Output:\n",
            "Found \"exercises\" at 7:16\n",
            "Found \"exercises\" at 22:31\n",
            "Found \"exercises\" at 36:45\n"
          ]
        }
      ]
    },
    {
      "cell_type": "code",
      "source": [
        "#5. Write a Python program to remove leading zeros from an IP address (Use!!! code: re.sub(pattern/word to replace, relacing text,text))\n",
        "ip = [\"016.08.298.196\",\"216.08.094.196\"]\n"
      ],
      "metadata": {
        "colab": {
          "base_uri": "https://localhost:8080/"
        },
        "id": "vSbTVOEojVcJ",
        "outputId": "0e630622-161f-4008-f95c-9dd73eec5d4c"
      },
      "execution_count": null,
      "outputs": [
        {
          "output_type": "stream",
          "name": "stdout",
          "text": [
            "Expected Output:\n",
            "016.8.298.196\n",
            "216.8.94.196\n"
          ]
        }
      ]
    },
    {
      "cell_type": "code",
      "source": [
        "#6. Write a Python program to find all words starting with 'a' or 'e' in a given string and append it to a list.\n",
        "text = \"The following example creates an ArrayList with a capacity of 50 elements. Four elements are then added to the ArrayList and the ArrayList is trimmed accordingly.\"\n"
      ],
      "metadata": {
        "colab": {
          "base_uri": "https://localhost:8080/"
        },
        "id": "iFxdrL_5jVZB",
        "outputId": "f47e31d8-043b-4c97-e8ee-c363b831d679"
      },
      "execution_count": null,
      "outputs": [
        {
          "output_type": "stream",
          "name": "stdout",
          "text": [
            "Expected Output:\n",
            "['example', 'eates', 'an', 'ayList', 'apacity', 'elements', 'elements', 'are', 'en', 'added', 'ayList', 'and', 'ayList', 'ed', 'accordingly']\n"
          ]
        }
      ]
    },
    {
      "cell_type": "code",
      "source": [
        "#7. Write a Python program to convert a date of yyyy-mm-dd format to dd-mm-yyyy format.\n",
        "dt1 = \"2026-01-02\"\n"
      ],
      "metadata": {
        "colab": {
          "base_uri": "https://localhost:8080/"
        },
        "id": "7Nji0c_QjVWt",
        "outputId": "a517a302-7f55-46c3-99e8-260473a6b7d1"
      },
      "execution_count": null,
      "outputs": [
        {
          "output_type": "stream",
          "name": "stdout",
          "text": [
            "Expected Output:\n",
            "Original date in YYY-MM-DD Format:  2026-01-02\n",
            "New date in DD-MM-YYYY Format:  02-01-2026\n"
          ]
        }
      ]
    },
    {
      "cell_type": "code",
      "source": [
        ""
      ],
      "metadata": {
        "id": "LT1OOCZymnlZ"
      },
      "execution_count": null,
      "outputs": []
    }
  ]
}